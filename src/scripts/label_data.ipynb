{
 "cells": [
  {
   "cell_type": "code",
   "execution_count": 1,
   "metadata": {},
   "outputs": [
    {
     "name": "stderr",
     "output_type": "stream",
     "text": [
      "/home/rsb6/Desktop/LIVE/ATV4/ethernet-analyser/ethernet-env/lib/python3.12/site-packages/pydub/utils.py:170: RuntimeWarning: Couldn't find ffmpeg or avconv - defaulting to ffmpeg, but may not work\n",
      "  warn(\"Couldn't find ffmpeg or avconv - defaulting to ffmpeg, but may not work\", RuntimeWarning)\n",
      "2024-07-02 22:26:08.096087: E external/local_xla/xla/stream_executor/cuda/cuda_fft.cc:479] Unable to register cuFFT factory: Attempting to register factory for plugin cuFFT when one has already been registered\n",
      "2024-07-02 22:26:08.123031: E external/local_xla/xla/stream_executor/cuda/cuda_dnn.cc:10575] Unable to register cuDNN factory: Attempting to register factory for plugin cuDNN when one has already been registered\n",
      "2024-07-02 22:26:08.123066: E external/local_xla/xla/stream_executor/cuda/cuda_blas.cc:1442] Unable to register cuBLAS factory: Attempting to register factory for plugin cuBLAS when one has already been registered\n",
      "2024-07-02 22:26:08.139715: I tensorflow/core/platform/cpu_feature_guard.cc:210] This TensorFlow binary is optimized to use available CPU instructions in performance-critical operations.\n",
      "To enable the following instructions: AVX2 FMA, in other operations, rebuild TensorFlow with the appropriate compiler flags.\n",
      "2024-07-02 22:26:09.582633: W tensorflow/compiler/tf2tensorrt/utils/py_utils.cc:38] TF-TRT Warning: Could not find TensorRT\n"
     ]
    }
   ],
   "source": [
    "from _eth_process import EthernetProcess\n",
    "from _eth_datas import DataProcessing\n",
    "from _eth_libs import *"
   ]
  },
  {
   "cell_type": "code",
   "execution_count": 2,
   "metadata": {},
   "outputs": [],
   "source": [
    "PATH = '/home/rsb6/Desktop/LIVE/ATV4/ethernet-analyser/'\n",
    "\n",
    "# Caminho para o arquivo pcapng contendo os dados de audio\n",
    "pcap_path_drop = PATH + 'src/Dataset/Malignos/sine/drop/drop-100-1000.pcapng'\n",
    "pcap_path_delay = PATH + 'src/Dataset/Malignos/sine/delay/delay-100-1000.pcapng'\n",
    "pcap_path_jitter = PATH + 'src/Dataset/Malignos/sine/jitter/timestamp_Jitter-100-1000.pcapng'\n",
    "pcap_path_sequency = PATH + 'src/Dataset/Malignos/sine/sequency/out_of_sequency-100-1000.pcapng'\n",
    "\n",
    "# nome do ataque a ser lido\n",
    "name_atcck = 'sequency'\n",
    "\n",
    "# Caminho para o cvs contendo os tempos\n",
    "csv_path = PATH + f'src/Dataset/Malignos/sine/{name_atcck}/{name_atcck}.csv'\n",
    "\n",
    "\n",
    "output_filename = PATH + 'src/Dataset_labeled/'\n",
    "output_file = PATH + 'src/scripts'"
   ]
  },
  {
   "cell_type": "code",
   "execution_count": 3,
   "metadata": {},
   "outputs": [],
   "source": [
    "eth = EthernetProcess()\n",
    "dtx = DataProcessing()"
   ]
  },
  {
   "cell_type": "code",
   "execution_count": 4,
   "metadata": {},
   "outputs": [],
   "source": [
    "# Read the pcapng file and extract packets\n",
    "packets, chanel0, chanel1 = eth._read_pcapng(pcap_path_sequency)\n",
    "payloads = eth._process_data_pcapng(packets)\n",
    "dataframe= eth._create_dataframe(csv_path, payloads)"
   ]
  },
  {
   "cell_type": "code",
   "execution_count": null,
   "metadata": {},
   "outputs": [],
   "source": [
    "labels = eth.label_anomalies(dataframe, f'{output_filename}' + f'labeled_{name_atcck}', attck_name=f'{name_atcck}_attck')"
   ]
  },
  {
   "cell_type": "code",
   "execution_count": null,
   "metadata": {},
   "outputs": [],
   "source": [
    "# eth.plot_waveform(dataframe.time, chanel0)"
   ]
  },
  {
   "cell_type": "code",
   "execution_count": null,
   "metadata": {},
   "outputs": [],
   "source": [
    "# eth.reconstruct_audio(chanel0,sample_rate=500)\n"
   ]
  }
 ],
 "metadata": {
  "kernelspec": {
   "display_name": ".venv",
   "language": "python",
   "name": "python3"
  },
  "language_info": {
   "codemirror_mode": {
    "name": "ipython",
    "version": 3
   },
   "file_extension": ".py",
   "mimetype": "text/x-python",
   "name": "python",
   "nbconvert_exporter": "python",
   "pygments_lexer": "ipython3",
   "version": "3.12.3"
  }
 },
 "nbformat": 4,
 "nbformat_minor": 2
}
