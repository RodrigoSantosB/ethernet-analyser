{
 "cells": [
  {
   "cell_type": "code",
   "execution_count": 3,
   "metadata": {},
   "outputs": [
    {
     "name": "stderr",
     "output_type": "stream",
     "text": [
      "/home/rsb6/Desktop/LIVE/ATV4/ethernet-analyser/ethernet-env/lib/python3.12/site-packages/pydub/utils.py:170: RuntimeWarning: Couldn't find ffmpeg or avconv - defaulting to ffmpeg, but may not work\n",
      "  warn(\"Couldn't find ffmpeg or avconv - defaulting to ffmpeg, but may not work\", RuntimeWarning)\n",
      "2024-07-08 21:48:39.766056: E external/local_xla/xla/stream_executor/cuda/cuda_fft.cc:479] Unable to register cuFFT factory: Attempting to register factory for plugin cuFFT when one has already been registered\n",
      "2024-07-08 21:48:39.796336: E external/local_xla/xla/stream_executor/cuda/cuda_dnn.cc:10575] Unable to register cuDNN factory: Attempting to register factory for plugin cuDNN when one has already been registered\n",
      "2024-07-08 21:48:39.796381: E external/local_xla/xla/stream_executor/cuda/cuda_blas.cc:1442] Unable to register cuBLAS factory: Attempting to register factory for plugin cuBLAS when one has already been registered\n",
      "2024-07-08 21:48:39.815772: I tensorflow/core/platform/cpu_feature_guard.cc:210] This TensorFlow binary is optimized to use available CPU instructions in performance-critical operations.\n",
      "To enable the following instructions: AVX2 FMA, in other operations, rebuild TensorFlow with the appropriate compiler flags.\n",
      "2024-07-08 21:48:41.748104: W tensorflow/compiler/tf2tensorrt/utils/py_utils.cc:38] TF-TRT Warning: Could not find TensorRT\n"
     ]
    }
   ],
   "source": [
    "from _eth_process import EthernetProcess\n",
    "from _eth_datas import DataProcessing\n",
    "from _eth_libs import *"
   ]
  },
  {
   "cell_type": "code",
   "execution_count": 4,
   "metadata": {},
   "outputs": [],
   "source": [
    "PATH = '/home/rsb6/Desktop/LIVE/ATV4/ethernet-analyser/'\n",
    "\n",
    "# Caminho para o arquivo pcapng contendo os dados de audio\n",
    "pcap_path_drop = PATH + 'src/Dataset/Malignos/sine/drop/drop-100-1000.pcapng'\n",
    "pcap_path_delay = PATH + 'src/Dataset/Malignos/sine/delay/delay-100-1000.pcapng'\n",
    "pcap_path_jitter = PATH + 'src/Dataset/Malignos/sine/jitter/timestamp_Jitter-100-1000.pcapng'\n",
    "pcap_path_sequency = PATH + 'src/Dataset/Malignos/sine/sequency/out_of_sequency-100-1000.pcapng'\n",
    "\n",
    "# nome do ataque a ser lido\n",
    "name_atcck = 'jitter'\n",
    "\n",
    "# Caminho para o cvs contendo os tempos\n",
    "csv_path = PATH + f'src/Dataset/Malignos/sine/{name_atcck}/{name_atcck}.csv'\n",
    "\n",
    "\n",
    "output_filename = PATH + 'src/Dataset_labeled/'\n",
    "output_file = PATH + 'src/scripts'"
   ]
  },
  {
   "cell_type": "code",
   "execution_count": 5,
   "metadata": {},
   "outputs": [],
   "source": [
    "eth = EthernetProcess()\n",
    "dtx = DataProcessing()"
   ]
  },
  {
   "cell_type": "code",
   "execution_count": 6,
   "metadata": {},
   "outputs": [],
   "source": [
    "# Read the pcapng file and extract packets\n",
    "packets, chanel0, chanel1 = eth._read_pcapng(pcap_path_jitter)\n",
    "dataframe = eth._create_dataframe(csv_path, chanel0, chanel1)\n",
    "# payloads  = eth._process_data_pcapng(packets)"
   ]
  },
  {
   "cell_type": "code",
   "execution_count": 9,
   "metadata": {},
   "outputs": [
    {
     "data": {
      "text/html": [
       "<div>\n",
       "<style scoped>\n",
       "    .dataframe tbody tr th:only-of-type {\n",
       "        vertical-align: middle;\n",
       "    }\n",
       "\n",
       "    .dataframe tbody tr th {\n",
       "        vertical-align: top;\n",
       "    }\n",
       "\n",
       "    .dataframe thead th {\n",
       "        text-align: right;\n",
       "    }\n",
       "</style>\n",
       "<table border=\"1\" class=\"dataframe\">\n",
       "  <thead>\n",
       "    <tr style=\"text-align: right;\">\n",
       "      <th></th>\n",
       "      <th>Timestamp</th>\n",
       "      <th>Chanel0</th>\n",
       "      <th>Chanel1</th>\n",
       "    </tr>\n",
       "  </thead>\n",
       "  <tbody>\n",
       "    <tr>\n",
       "      <th>0</th>\n",
       "      <td>0.000000</td>\n",
       "      <td>f5f6f7a1f94efafafca7fe54</td>\n",
       "      <td>9b74a9b6b94ec9ffdb86ed9f</td>\n",
       "    </tr>\n",
       "    <tr>\n",
       "      <th>1</th>\n",
       "      <td>0.000125</td>\n",
       "      <td>000001ac0359050606b2085f</td>\n",
       "      <td>00001261247a360146b2564a</td>\n",
       "    </tr>\n",
       "    <tr>\n",
       "      <th>2</th>\n",
       "      <td>0.000250</td>\n",
       "      <td>0a0a0bb60d610f0b10b4125d</td>\n",
       "      <td>648c71427c3a7fff7fff7fff</td>\n",
       "    </tr>\n",
       "    <tr>\n",
       "      <th>3</th>\n",
       "      <td>0.000375</td>\n",
       "      <td>140515ad175318f81a9c1c3f</td>\n",
       "      <td>7fff7fff7fff7fff7fff7fff</td>\n",
       "    </tr>\n",
       "    <tr>\n",
       "      <th>4</th>\n",
       "      <td>0.000500</td>\n",
       "      <td>1de11f81212022be245a25f4</td>\n",
       "      <td>78636d6c612053b9457b36a9</td>\n",
       "    </tr>\n",
       "    <tr>\n",
       "      <th>...</th>\n",
       "      <td>...</td>\n",
       "      <td>...</td>\n",
       "      <td>...</td>\n",
       "    </tr>\n",
       "    <tr>\n",
       "      <th>487800</th>\n",
       "      <td>60.687250</td>\n",
       "      <td>838b832982ce8277822681db</td>\n",
       "      <td>de0de8b5f1a7f8b8fdc900c0</td>\n",
       "    </tr>\n",
       "    <tr>\n",
       "      <th>487801</th>\n",
       "      <td>60.687375</td>\n",
       "      <td>81958155811a80e580b5808b</td>\n",
       "      <td>0193003afcbcf725ef8ee617</td>\n",
       "    </tr>\n",
       "    <tr>\n",
       "      <th>487802</th>\n",
       "      <td>60.687500</td>\n",
       "      <td>80678048802e801b800d8004</td>\n",
       "      <td>dae8ce33c02eb116a12d90b9</td>\n",
       "    </tr>\n",
       "    <tr>\n",
       "      <th>487803</th>\n",
       "      <td>60.687625</td>\n",
       "      <td>80018004800d801b802e8048</td>\n",
       "      <td>800180018001800180018001</td>\n",
       "    </tr>\n",
       "    <tr>\n",
       "      <th>487804</th>\n",
       "      <td>60.687750</td>\n",
       "      <td>8067808b80b580e5811a8155</td>\n",
       "      <td>800180018001800180018001</td>\n",
       "    </tr>\n",
       "  </tbody>\n",
       "</table>\n",
       "<p>487805 rows × 3 columns</p>\n",
       "</div>"
      ],
      "text/plain": [
       "        Timestamp                   Chanel0                   Chanel1\n",
       "0        0.000000  f5f6f7a1f94efafafca7fe54  9b74a9b6b94ec9ffdb86ed9f\n",
       "1        0.000125  000001ac0359050606b2085f  00001261247a360146b2564a\n",
       "2        0.000250  0a0a0bb60d610f0b10b4125d  648c71427c3a7fff7fff7fff\n",
       "3        0.000375  140515ad175318f81a9c1c3f  7fff7fff7fff7fff7fff7fff\n",
       "4        0.000500  1de11f81212022be245a25f4  78636d6c612053b9457b36a9\n",
       "...           ...                       ...                       ...\n",
       "487800  60.687250  838b832982ce8277822681db  de0de8b5f1a7f8b8fdc900c0\n",
       "487801  60.687375  81958155811a80e580b5808b  0193003afcbcf725ef8ee617\n",
       "487802  60.687500  80678048802e801b800d8004  dae8ce33c02eb116a12d90b9\n",
       "487803  60.687625  80018004800d801b802e8048  800180018001800180018001\n",
       "487804  60.687750  8067808b80b580e5811a8155  800180018001800180018001\n",
       "\n",
       "[487805 rows x 3 columns]"
      ]
     },
     "execution_count": 9,
     "metadata": {},
     "output_type": "execute_result"
    }
   ],
   "source": [
    "dataframe"
   ]
  },
  {
   "cell_type": "code",
   "execution_count": null,
   "metadata": {},
   "outputs": [],
   "source": [
    "labels = eth.label_anomalies(dataframe, f'{output_filename}' + f'labeled_{name_atcck}', attck_name=f'{name_atcck}_attck')"
   ]
  },
  {
   "cell_type": "code",
   "execution_count": null,
   "metadata": {},
   "outputs": [],
   "source": [
    "# eth.plot_waveform(dataframe.time, chanel0)"
   ]
  },
  {
   "cell_type": "code",
   "execution_count": null,
   "metadata": {},
   "outputs": [],
   "source": [
    "# eth.reconstruct_audio(chanel0,sample_rate=500)\n"
   ]
  }
 ],
 "metadata": {
  "kernelspec": {
   "display_name": ".venv",
   "language": "python",
   "name": "python3"
  },
  "language_info": {
   "codemirror_mode": {
    "name": "ipython",
    "version": 3
   },
   "file_extension": ".py",
   "mimetype": "text/x-python",
   "name": "python",
   "nbconvert_exporter": "python",
   "pygments_lexer": "ipython3",
   "version": "3.12.3"
  }
 },
 "nbformat": 4,
 "nbformat_minor": 2
}
